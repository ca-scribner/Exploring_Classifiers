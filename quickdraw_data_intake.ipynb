{
 "cells": [
  {
   "cell_type": "code",
   "execution_count": 23,
   "metadata": {},
   "outputs": [],
   "source": [
    "import numpy as np\n",
    "import pandas as pd\n",
    "import os"
   ]
  },
  {
   "cell_type": "code",
   "execution_count": 24,
   "metadata": {},
   "outputs": [],
   "source": [
    "datapath = \"../Data/Quick_Draw_Assignment_Data/\"\n",
    "datasets = {\n",
    "    \"baseball\": \"full_numpy_bitmap_baseball.npy\",\n",
    "    \"basketball\": \"full_numpy_bitmap_basketball.npy\",\n",
    "    \"camel\": \"full_numpy_bitmap_camel.npy\",\n",
    "    \"cow\": \"full_numpy_bitmap_cow.npy\",\n",
    "    \"clock\": \"full_numpy_bitmap_clock.npy\",\n",
    "    \"wristwatch\": \"full_numpy_bitmap_wristwatch.npy\",\n",
    "}"
   ]
  },
  {
   "cell_type": "markdown",
   "metadata": {},
   "source": [
    "Load the data, grabbing a \"random\" subset of each, labelling, and storing in a dataframe "
   ]
  },
  {
   "cell_type": "code",
   "execution_count": 25,
   "metadata": {},
   "outputs": [
    {
     "name": "stdout",
     "output_type": "stream",
     "text": [
      "Loading data for baseball: ../Data/Quick_Draw_Assignment_Data/full_numpy_bitmap_baseball.npy\n",
      "Loading data for basketball: ../Data/Quick_Draw_Assignment_Data/full_numpy_bitmap_basketball.npy\n",
      "Loading data for camel: ../Data/Quick_Draw_Assignment_Data/full_numpy_bitmap_camel.npy\n",
      "Loading data for cow: ../Data/Quick_Draw_Assignment_Data/full_numpy_bitmap_cow.npy\n",
      "Loading data for clock: ../Data/Quick_Draw_Assignment_Data/full_numpy_bitmap_clock.npy\n",
      "Loading data for wristwatch: ../Data/Quick_Draw_Assignment_Data/full_numpy_bitmap_wristwatch.npy\n"
     ]
    }
   ],
   "source": [
    "nSamples = 5500 # Samples retained per category\n",
    "np.random.seed(1) # Seed to make random choice repeatable\n",
    "\n",
    "data_dfs = {}\n",
    "data = pd.DataFrame()\n",
    "classNumber = 0\n",
    "for name, fname in datasets.items():\n",
    "    fullpath = os.path.join(datapath, fname)\n",
    "    print(f\"Loading data for {name}: {fullpath}\")\n",
    "    temp = np.load(fullpath)\n",
    "    temp = temp[np.random.choice(temp.shape[0], nSamples, replace=False)]\n",
    "    df = pd.DataFrame(temp)\n",
    "    df['name'] = name\n",
    "    df['classNumber'] = classNumber\n",
    "    data_dfs[name] = df\n",
    "    data = pd.concat([data, df], ignore_index=True)\n",
    "    classNumber += 1"
   ]
  },
  {
   "cell_type": "code",
   "execution_count": 26,
   "metadata": {},
   "outputs": [],
   "source": [
    "for name in datasets:\n",
    "    data['is_' + name] = (data['name'] == name).astype('int')"
   ]
  },
  {
   "cell_type": "code",
   "execution_count": 27,
   "metadata": {},
   "outputs": [],
   "source": [
    "# data.to_csv('preprocessedDataFrame.csv')\n",
    "data.to_pickle('preprocessedDataFrame.zip')"
   ]
  }
 ],
 "metadata": {
  "kernelspec": {
   "display_name": "Python 3",
   "language": "python",
   "name": "python3"
  },
  "language_info": {
   "codemirror_mode": {
    "name": "ipython",
    "version": 3
   },
   "file_extension": ".py",
   "mimetype": "text/x-python",
   "name": "python",
   "nbconvert_exporter": "python",
   "pygments_lexer": "ipython3",
   "version": "3.7.0"
  }
 },
 "nbformat": 4,
 "nbformat_minor": 2
}
